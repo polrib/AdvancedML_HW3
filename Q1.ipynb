{
  "nbformat": 4,
  "nbformat_minor": 0,
  "metadata": {
    "kernelspec": {
      "display_name": "Python 3",
      "language": "python",
      "name": "python3"
    },
    "language_info": {
      "codemirror_mode": {
        "name": "ipython",
        "version": 3
      },
      "file_extension": ".py",
      "mimetype": "text/x-python",
      "name": "python",
      "nbconvert_exporter": "python",
      "pygments_lexer": "ipython3",
      "version": "3.7.3"
    },
    "colab": {
      "name": "Q1.ipynb",
      "provenance": []
    },
    "accelerator": "GPU"
  },
  "cells": [
    {
      "cell_type": "code",
      "metadata": {
        "scrolled": false,
        "id": "qhJmVMdLA8-N",
        "colab_type": "code",
        "colab": {
          "base_uri": "https://localhost:8080/",
          "height": 1000
        },
        "outputId": "c0d3e9f1-ef2f-43b6-c8cf-4f9f1f818f22"
      },
      "source": [
        "import torch\n",
        "import torch.nn as nn\n",
        "import torchvision\n",
        "import torchvision.transforms as transforms\n",
        "import numpy as np\n",
        "from google.colab import files\n",
        "\n",
        "import matplotlib.pyplot as plt\n",
        "\n",
        "def weights_init(m):\n",
        "    if type(m) == nn.Linear:\n",
        "        m.weight.data.normal_(0.0, 1e-3)\n",
        "        m.bias.data.fill_(0.)\n",
        "\n",
        "def update_lr(optimizer, lr):\n",
        "    for param_group in optimizer.param_groups:\n",
        "        param_group['lr'] = lr\n",
        "\n",
        "#--------------------------------\n",
        "# Device configuration\n",
        "#--------------------------------\n",
        "device = torch.device('cuda' if torch.cuda.is_available() else 'cpu')\n",
        "print('Using device: %s'%device)\n",
        "\n",
        "#--------------------------------\n",
        "# Hyper-parameters\n",
        "#--------------------------------\n",
        "input_size = 3\n",
        "num_classes = 10\n",
        "hidden_size = [128, 512, 512, 512, 512]\n",
        "num_epochs = 13\n",
        "batch_size = 200\n",
        "learning_rate = 2e-3\n",
        "learning_rate_decay = 0.95\n",
        "reg=0.001\n",
        "num_training= 49000\n",
        "num_validation =1000\n",
        "norm_layer = None #norm_layer = 'BN'\n",
        "print(hidden_size)\n",
        "\n",
        "\n",
        "\n",
        "#-------------------------------------------------\n",
        "# Load the CIFAR-10 dataset\n",
        "#-------------------------------------------------\n",
        "#################################################################################\n",
        "# TODO: Q3.a Choose the right data augmentation transforms with the right       #\n",
        "# hyper-parameters and put them in the data_aug_transforms variable             #\n",
        "#################################################################################\n",
        "data_aug_transforms = []\n",
        "# *****START OF YOUR CODE (DO NOT DELETE/MODIFY THIS LINE)*****\n",
        "\n",
        "\n",
        "\n",
        "# *****END OF YOUR CODE (DO NOT DELETE/MODIFY THIS LINE)*****\n",
        "norm_transform = transforms.Compose(data_aug_transforms+[transforms.ToTensor(),\n",
        "                                     transforms.Normalize((0.5, 0.5, 0.5), (0.5, 0.5, 0.5))\n",
        "                                     ])\n",
        "test_transform = transforms.Compose([transforms.ToTensor(),\n",
        "                                     transforms.Normalize((0.5, 0.5, 0.5), (0.5, 0.5, 0.5))\n",
        "                                     ])\n",
        "cifar_dataset = torchvision.datasets.CIFAR10(root='datasets/',\n",
        "                                           train=True,\n",
        "                                           transform=norm_transform,\n",
        "                                           download=True)\n",
        "\n",
        "test_dataset = torchvision.datasets.CIFAR10(root='datasets/',\n",
        "                                          train=False,\n",
        "                                          transform=test_transform\n",
        "                                          )\n",
        "\n",
        "#-------------------------------------------------\n",
        "# Prepare the training and validation splits\n",
        "#-------------------------------------------------\n",
        "mask = list(range(num_training))\n",
        "train_dataset = torch.utils.data.Subset(cifar_dataset, mask)\n",
        "mask = list(range(num_training, num_training + num_validation))\n",
        "val_dataset = torch.utils.data.Subset(cifar_dataset, mask)\n",
        "\n",
        "#-------------------------------------------------\n",
        "# Data loader\n",
        "#-------------------------------------------------\n",
        "train_loader = torch.utils.data.DataLoader(dataset=train_dataset,\n",
        "                                           batch_size=batch_size,\n",
        "                                           shuffle=True)\n",
        "\n",
        "val_loader = torch.utils.data.DataLoader(dataset=val_dataset,\n",
        "                                           batch_size=batch_size,\n",
        "                                           shuffle=False)\n",
        "\n",
        "test_loader = torch.utils.data.DataLoader(dataset=test_dataset,\n",
        "                                          batch_size=batch_size,\n",
        "                                          shuffle=False)\n",
        "\n",
        "\n",
        "#-------------------------------------------------\n",
        "# Convolutional neural network (Q1.a and Q2.a)\n",
        "# Set norm_layer for different networks whether using batch normalization\n",
        "#-------------------------------------------------\n",
        "class ConvNet(nn.Module):\n",
        "    def __init__(self, input_size, hidden_layers, num_classes, norm_layer=None):\n",
        "        super(ConvNet, self).__init__()\n",
        "        #################################################################################\n",
        "        # TODO: Initialize the modules required to implement the convolutional layer    #\n",
        "        # described in the exercise.                                                    #\n",
        "        # For Q1.a make use of conv2d and relu layers from the torch.nn module.         #\n",
        "        # For Q2.a make use of BatchNorm2d layer from the torch.nn module.              #\n",
        "        # For Q3.b Use Dropout layer from the torch.nn module.                          #\n",
        "        #################################################################################\n",
        "        layers = []\n",
        "        # *****START OF YOUR CODE (DO NOT DELETE/MODIFY THIS LINE)*****\n",
        "        \n",
        "        self.input_size = input_size\n",
        "        self.hidden_layers = hidden_layers\n",
        "        self.num_classes = num_classes\n",
        "        self.norm_layer = norm_layer\n",
        "        \n",
        "        for i in range(len(hidden_layers)):\n",
        "            if i == 0:\n",
        "                layers.append(nn.Conv2d(self.input_size,self.hidden_layers[i],kernel_size = 3,stride = 1,padding = 1))\n",
        "                layers.append(nn.MaxPool2d(2, 2))\n",
        "                layers.append(nn.ReLU())\n",
        "            else:\n",
        "                layers.append(nn.Conv2d(self.hidden_layers[i-1],self.hidden_layers[i],kernel_size = 3,stride = 1,padding = 1))\n",
        "                layers.append(nn.MaxPool2d(2, 2))\n",
        "                layers.append(nn.ReLU())\n",
        "        self.layers = nn.Sequential(*layers)\n",
        "        self.classifier = nn.Sequential(nn.Linear(self.hidden_layers[i],num_classes))\n",
        "        # *****END OF YOUR CODE (DO NOT DELETE/MODIFY THIS LINE)*****\n",
        "\n",
        "    def forward(self, x):\n",
        "        #################################################################################\n",
        "        # TODO: Implement the forward pass computations                                 #\n",
        "        #################################################################################\n",
        "        # *****START OF YOUR CODE (DO NOT DELETE/MODIFY THIS LINE)*****\n",
        "        x = self.layers(x)\n",
        "        x = x.view(batch_size,self.hidden_layers[-1])\n",
        "        out = self.classifier(x)\n",
        "        # *****END OF YOUR CODE (DO NOT DELETE/MODIFY THIS LINE)*****\n",
        "        return out\n",
        "\n",
        "#-------------------------------------------------\n",
        "# Calculate the model size (Q1.b)\n",
        "# if disp is true, print the model parameters, otherwise, only return the number of parameters.\n",
        "#-------------------------------------------------\n",
        "def PrintModelSize(model, disp=True):\n",
        "    #################################################################################\n",
        "    # TODO: Implement the function to count the number of trainable parameters in   #\n",
        "    # the input model. This useful to track the capacity of the model you are       #\n",
        "    # training                                                                      #\n",
        "    #################################################################################\n",
        "    # *****START OF YOUR CODE (DO NOT DELETE/MODIFY THIS LINE)*****\n",
        "    if disp:\n",
        "        # In case of RuntimeError: error in LoadLibraryA uncomment the code below:\n",
        "        # import ctypes\n",
        "        # ctypes.cdll.LoadLibrary('caffe2_nvrtc.dll')\n",
        "        print('=====================MODEL PARAMETERS=====================')\n",
        "        for name, p in list(model.named_parameters()):\n",
        "            print('Parameter name:','\\t',name,'\\t','Parameter shape:','\\t',p.shape)\n",
        "    num_param=0\n",
        "    for p in list(model.parameters()):\n",
        "        count=1\n",
        "        for size in list(p.size()):\n",
        "            count *= size\n",
        "        num_param += count\n",
        "    print('numberOfParameters:\\t', num_param)\n",
        "    # *****END OF YOUR CODE (DO NOT DELETE/MODIFY THIS LINE)*****\n",
        "    return num_param\n",
        "\n",
        "#-------------------------------------------------\n",
        "# Calculate the model size (Q1.c)\n",
        "# visualize the convolution filters of the first convolution layer of the input model\n",
        "#-------------------------------------------------\n",
        "def VisualizeFilter(model):\n",
        "    #################################################################################\n",
        "    # TODO: Implement the functiont to visualize the weights in the first conv layer#\n",
        "    # in the model. Visualize them as a single image of stacked filters.            #\n",
        "    # You can use matlplotlib.imshow to visualize an image in python                #\n",
        "    #################################################################################\n",
        "    # *****START OF YOUR CODE (DO NOT DELETE/MODIFY THIS LINE)*****\n",
        "    img = torchvision.utils.make_grid(model.layers[0].weight.detach().cpu())     # unnormalize\n",
        "    fig = plt.figure(figsize=(15, 15))\n",
        "    npimg = img.numpy()*5\n",
        "    plt.imshow(np.transpose(npimg, (2, 1, 0)))\n",
        "    #plt.savefig(\"FilterIMG.png\")\n",
        "    plt.show()\n",
        "    #files.download(\"FilterIMG.png\") \n",
        "    pass\n",
        "    # *****END OF YOUR CODE (DO NOT DELETE/MODIFY THIS LINE)*****\n",
        "\n",
        "#======================================================================================\n",
        "# Q1.a: Implementing convolutional neural net in PyTorch\n",
        "#======================================================================================\n",
        "# In this question we will implement a convolutional neural networks using the PyTorch\n",
        "# library.  Please complete the code for the ConvNet class evaluating the model\n",
        "#--------------------------------------------------------------------------------------\n",
        "model = ConvNet(input_size, hidden_size, num_classes, norm_layer=norm_layer).to(device)\n",
        "# Q2.a - Initialize the model with correct batch norm layer\n",
        "\n",
        "model.apply(weights_init)\n",
        "# Print the model\n",
        "print(model)\n",
        "# Print model size\n",
        "#======================================================================================\n",
        "# Q1.b: Implementing the function to count the number of trainable parameters in the model\n",
        "#======================================================================================\n",
        "PrintModelSize(model)\n",
        "#======================================================================================\n",
        "# Q1.a: Implementing the function to visualize the filters in the first conv layers.\n",
        "# Visualize the filters before training\n",
        "#======================================================================================\n",
        "VisualizeFilter(model)\n",
        "\n",
        "\n",
        "# Loss and optimizer\n",
        "criterion = nn.CrossEntropyLoss()\n",
        "optimizer = torch.optim.Adam(model.parameters(), lr=learning_rate, weight_decay=reg)\n",
        "\n",
        "# Train the model\n",
        "lr = learning_rate\n",
        "total_step = len(train_loader)\n",
        "loss_train = []\n",
        "loss_val = []\n",
        "best_accuracy = None\n",
        "accuracy_val = []\n",
        "best_model = type(model)(input_size, hidden_size, num_classes, norm_layer=norm_layer) # get a new instance\n",
        "#best_model = ConvNet(input_size, hidden_size, num_classes, norm_layer=norm_layer)\n",
        "for epoch in range(num_epochs):\n",
        "\n",
        "    model.train()\n",
        "\n",
        "    loss_iter = 0\n",
        "    for i, (images, labels) in enumerate(train_loader):\n",
        "        # Move tensors to the configured device\n",
        "        images = images.to(device)\n",
        "        labels = labels.to(device)\n",
        "\n",
        "        # Forward pass\n",
        "        outputs = model(images)\n",
        "        loss = criterion(outputs, labels)\n",
        "\n",
        "        # Backward and optimize\n",
        "        optimizer.zero_grad()\n",
        "        loss.backward()\n",
        "        optimizer.step()\n",
        "\n",
        "        loss_iter += loss.item()\n",
        "        \n",
        "        if (i+1) % 100 == 0:\n",
        "            print ('Epoch [{}/{}], Step [{}/{}], Loss: {:.4f}'\n",
        "                   .format(epoch+1, num_epochs, i+1, total_step, loss.item()))\n",
        "            \n",
        "    loss_train.append(loss_iter/(len(train_loader)*batch_size))\n",
        "\n",
        "    \n",
        "    # Code to update the lr\n",
        "    lr *= learning_rate_decay\n",
        "    update_lr(optimizer, lr)\n",
        "    \n",
        "        \n",
        "    model.eval()\n",
        "    with torch.no_grad():\n",
        "        correct = 0\n",
        "        total = 0\n",
        "        loss_iter = 0\n",
        "        for images, labels in val_loader:\n",
        "            images = images.to(device)\n",
        "            labels = labels.to(device)\n",
        "            \n",
        "            outputs = model(images)\n",
        "            _, predicted = torch.max(outputs.data, 1)\n",
        "            \n",
        "            total += labels.size(0)\n",
        "            correct += (predicted == labels).sum().item()\n",
        "            \n",
        "            loss = criterion(outputs, labels)\n",
        "            loss_iter += loss.item()\n",
        "        \n",
        "        loss_val.append(loss_iter/(len(val_loader)*batch_size))\n",
        "\n",
        "        accuracy = 100 * correct / total\n",
        "        accuracy_val.append(accuracy)\n",
        "        print('Validation accuracy is: {} %'.format(accuracy))\n",
        "    \n",
        "\n",
        "# Test the model\n",
        "# In test phase, we don't need to compute gradients (for memory efficiency)\n",
        "model.eval()\n",
        "\n",
        "\n",
        "\n",
        "plt.figure(2)\n",
        "plt.plot(loss_train, 'r', label='Train loss')\n",
        "plt.plot(loss_val, 'g', label='Val loss')\n",
        "plt.legend()\n",
        "plt.savefig(\"TrainValLoss.png\")\n",
        "plt.show()\n",
        "\n",
        "plt.figure(3)\n",
        "plt.plot(accuracy_val, 'r', label='Val accuracy')\n",
        "plt.legend()\n",
        "plt.savefig(\"ValAcc.png\")\n",
        "plt.show()\n",
        "\n",
        "\n",
        "#Compute accuracy on the test set\n",
        "with torch.no_grad():\n",
        "    correct = 0\n",
        "    total = 0\n",
        "    for images, labels in test_loader:\n",
        "        images = images.to(device)\n",
        "        labels = labels.to(device)\n",
        "        outputs = model(images)\n",
        "        _, predicted = torch.max(outputs.data, 1)\n",
        "        total += labels.size(0)\n",
        "        correct += (predicted == labels).sum().item()\n",
        "        if total == 1000:\n",
        "            break\n",
        "\n",
        "    print('Accuracy of the network on the {} test images: {} %'.format(total, 100 * correct / total))"
      ],
      "execution_count": 13,
      "outputs": [
        {
          "output_type": "stream",
          "text": [
            "Using device: cuda\n",
            "[128, 512, 512, 512, 512]\n",
            "Files already downloaded and verified\n"
          ],
          "name": "stdout"
        },
        {
          "output_type": "stream",
          "text": [
            "Clipping input data to the valid range for imshow with RGB data ([0..1] for floats or [0..255] for integers).\n"
          ],
          "name": "stderr"
        },
        {
          "output_type": "stream",
          "text": [
            "ConvNet(\n",
            "  (layers): Sequential(\n",
            "    (0): Conv2d(3, 128, kernel_size=(3, 3), stride=(1, 1), padding=(1, 1))\n",
            "    (1): MaxPool2d(kernel_size=2, stride=2, padding=0, dilation=1, ceil_mode=False)\n",
            "    (2): ReLU()\n",
            "    (3): Conv2d(128, 512, kernel_size=(3, 3), stride=(1, 1), padding=(1, 1))\n",
            "    (4): MaxPool2d(kernel_size=2, stride=2, padding=0, dilation=1, ceil_mode=False)\n",
            "    (5): ReLU()\n",
            "    (6): Conv2d(512, 512, kernel_size=(3, 3), stride=(1, 1), padding=(1, 1))\n",
            "    (7): MaxPool2d(kernel_size=2, stride=2, padding=0, dilation=1, ceil_mode=False)\n",
            "    (8): ReLU()\n",
            "    (9): Conv2d(512, 512, kernel_size=(3, 3), stride=(1, 1), padding=(1, 1))\n",
            "    (10): MaxPool2d(kernel_size=2, stride=2, padding=0, dilation=1, ceil_mode=False)\n",
            "    (11): ReLU()\n",
            "    (12): Conv2d(512, 512, kernel_size=(3, 3), stride=(1, 1), padding=(1, 1))\n",
            "    (13): MaxPool2d(kernel_size=2, stride=2, padding=0, dilation=1, ceil_mode=False)\n",
            "    (14): ReLU()\n",
            "  )\n",
            "  (classifier): Sequential(\n",
            "    (0): Linear(in_features=512, out_features=10, bias=True)\n",
            "  )\n",
            ")\n",
            "=====================MODEL PARAMETERS=====================\n",
            "Parameter name: \t layers.0.weight \t Parameter shape: \t torch.Size([128, 3, 3, 3])\n",
            "Parameter name: \t layers.0.bias \t Parameter shape: \t torch.Size([128])\n",
            "Parameter name: \t layers.3.weight \t Parameter shape: \t torch.Size([512, 128, 3, 3])\n",
            "Parameter name: \t layers.3.bias \t Parameter shape: \t torch.Size([512])\n",
            "Parameter name: \t layers.6.weight \t Parameter shape: \t torch.Size([512, 512, 3, 3])\n",
            "Parameter name: \t layers.6.bias \t Parameter shape: \t torch.Size([512])\n",
            "Parameter name: \t layers.9.weight \t Parameter shape: \t torch.Size([512, 512, 3, 3])\n",
            "Parameter name: \t layers.9.bias \t Parameter shape: \t torch.Size([512])\n",
            "Parameter name: \t layers.12.weight \t Parameter shape: \t torch.Size([512, 512, 3, 3])\n",
            "Parameter name: \t layers.12.bias \t Parameter shape: \t torch.Size([512])\n",
            "Parameter name: \t classifier.0.weight \t Parameter shape: \t torch.Size([10, 512])\n",
            "Parameter name: \t classifier.0.bias \t Parameter shape: \t torch.Size([10])\n",
            "numberOfParameters:\t 7678474\n"
          ],
          "name": "stdout"
        },
        {
          "output_type": "display_data",
          "data": {
            "image/png": "[encoded data removed]",
            "text/plain": [
              "<Figure size 1080x1080 with 1 Axes>"
            ]
          },
          "metadata": {
            "tags": [],
            "needs_background": "light"
          }
        },
        {
          "output_type": "stream",
          "text": [
            "Epoch [1/13], Step [100/245], Loss: 1.6906\n",
            "Epoch [1/13], Step [200/245], Loss: 1.3596\n",
            "Validation accuracy is: 50.7 %\n",
            "Epoch [2/13], Step [100/245], Loss: 1.2023\n",
            "Epoch [2/13], Step [200/245], Loss: 1.1861\n",
            "Validation accuracy is: 66.5 %\n",
            "Epoch [3/13], Step [100/245], Loss: 0.9321\n",
            "Epoch [3/13], Step [200/245], Loss: 0.8163\n",
            "Validation accuracy is: 69.7 %\n",
            "Epoch [4/13], Step [100/245], Loss: 0.7372\n",
            "Epoch [4/13], Step [200/245], Loss: 0.7118\n",
            "Validation accuracy is: 73.1 %\n",
            "Epoch [5/13], Step [100/245], Loss: 0.6868\n",
            "Epoch [5/13], Step [200/245], Loss: 0.6786\n",
            "Validation accuracy is: 74.1 %\n",
            "Epoch [6/13], Step [100/245], Loss: 0.5386\n",
            "Epoch [6/13], Step [200/245], Loss: 0.6784\n",
            "Validation accuracy is: 76.6 %\n",
            "Epoch [7/13], Step [100/245], Loss: 0.5816\n",
            "Epoch [7/13], Step [200/245], Loss: 0.4773\n",
            "Validation accuracy is: 76.0 %\n",
            "Epoch [8/13], Step [100/245], Loss: 0.4229\n",
            "Epoch [8/13], Step [200/245], Loss: 0.3707\n",
            "Validation accuracy is: 78.0 %\n",
            "Epoch [9/13], Step [100/245], Loss: 0.5074\n",
            "Epoch [9/13], Step [200/245], Loss: 0.4111\n",
            "Validation accuracy is: 78.3 %\n",
            "Epoch [10/13], Step [100/245], Loss: 0.4265\n",
            "Epoch [10/13], Step [200/245], Loss: 0.3524\n",
            "Validation accuracy is: 79.3 %\n",
            "Epoch [11/13], Step [100/245], Loss: 0.2976\n",
            "Epoch [11/13], Step [200/245], Loss: 0.3279\n",
            "Validation accuracy is: 80.3 %\n",
            "Epoch [12/13], Step [100/245], Loss: 0.3671\n",
            "Epoch [12/13], Step [200/245], Loss: 0.3257\n",
            "Validation accuracy is: 79.1 %\n",
            "Epoch [13/13], Step [100/245], Loss: 0.2365\n",
            "Epoch [13/13], Step [200/245], Loss: 0.1937\n",
            "Validation accuracy is: 79.7 %\n"
          ],
          "name": "stdout"
        },
        {
          "output_type": "display_data",
          "data": {
            "image/png": "[encoded data removed]",
            "text/plain": [
              "<Figure size 432x288 with 1 Axes>"
            ]
          },
          "metadata": {
            "tags": [],
            "needs_background": "light"
          }
        },
        {
          "output_type": "display_data",
          "data": {
            "image/png": "[encoded data removed]",
            "text/plain": [
              "<Figure size 432x288 with 1 Axes>"
            ]
          },
          "metadata": {
            "tags": [],
            "needs_background": "light"
          }
        },
        {
          "output_type": "stream",
          "text": [
            "Accuracy of the network on the 1000 test images: 80.5 %\n"
          ],
          "name": "stdout"
        }
      ]
    },
    {
      "cell_type": "code",
      "metadata": {
        "id": "zxFhjbuTLolZ",
        "colab_type": "code",
        "colab": {
          "base_uri": "https://localhost:8080/",
          "height": 35
        },
        "outputId": "2e68ef22-7dc4-441c-9f6b-dd232b9fd5c8"
      },
      "source": [
        "!ls"
      ],
      "execution_count": 9,
      "outputs": [
        {
          "output_type": "stream",
          "text": [
            "datasets  FilterIMG.png  sample_data  TrainValLoss.png\tValAcc.png\n"
          ],
          "name": "stdout"
        }
      ]
    },
    {
      "cell_type": "code",
      "metadata": {
        "id": "jh2d2piaLpdE",
        "colab_type": "code",
        "colab": {
          "base_uri": "https://localhost:8080/",
          "height": 495
        },
        "outputId": "47e20ba5-4d2b-4194-b052-97e53da484da"
      },
      "source": [
        "VisualizeFilter(model)"
      ],
      "execution_count": 14,
      "outputs": [
        {
          "output_type": "stream",
          "text": [
            "Clipping input data to the valid range for imshow with RGB data ([0..1] for floats or [0..255] for integers).\n"
          ],
          "name": "stderr"
        },
        {
          "output_type": "display_data",
          "data": {
            "image/png": "[encoded data removed]",
            "text/plain": [
              "<Figure size 1080x1080 with 1 Axes>"
            ]
          },
          "metadata": {
            "tags": [],
            "needs_background": "light"
          }
        }
      ]
    },
    {
      "cell_type": "code",
      "metadata": {
        "id": "t1xZZ0vfYCCp",
        "colab_type": "code",
        "colab": {
          "base_uri": "https://localhost:8080/",
          "height": 495
        },
        "outputId": "c9a238be-2431-4d4d-a713-77d9c5afa65b"
      },
      "source": [
        "VisualizeFilter(model)"
      ],
      "execution_count": 12,
      "outputs": [
        {
          "output_type": "stream",
          "text": [
            "Clipping input data to the valid range for imshow with RGB data ([0..1] for floats or [0..255] for integers).\n"
          ],
          "name": "stderr"
        },
        {
          "output_type": "display_data",
          "data": {
            "image/png": "[encoded data removed]",
            "text/plain": [
              "<Figure size 1080x1080 with 1 Axes>"
            ]
          },
          "metadata": {
            "tags": [],
            "needs_background": "light"
          }
        }
      ]
    },
    {
      "cell_type": "code",
      "metadata": {
        "id": "9Wpn27jcY25u",
        "colab_type": "code",
        "colab": {}
      },
      "source": [
        ""
      ],
      "execution_count": 0,
      "outputs": []
    }
  ]
}